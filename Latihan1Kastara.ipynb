{
  "nbformat": 4,
  "nbformat_minor": 0,
  "metadata": {
    "colab": {
      "provenance": [],
      "authorship_tag": "ABX9TyMMSfF7fi2DSO4VXzcaNyS2",
      "include_colab_link": true
    },
    "kernelspec": {
      "name": "python3",
      "display_name": "Python 3"
    },
    "language_info": {
      "name": "python"
    }
  },
  "cells": [
    {
      "cell_type": "markdown",
      "metadata": {
        "id": "view-in-github",
        "colab_type": "text"
      },
      "source": [
        "<a href=\"https://colab.research.google.com/github/huwiwi/python/blob/main/Latihan1Kastara.ipynb\" target=\"_parent\"><img src=\"https://colab.research.google.com/assets/colab-badge.svg\" alt=\"Open In Colab\"/></a>"
      ]
    },
    {
      "cell_type": "code",
      "execution_count": null,
      "metadata": {
        "colab": {
          "base_uri": "https://localhost:8080/"
        },
        "id": "R1VRY4S4UxT4",
        "outputId": "fcca3bcf-6738-4243-c535-4c14d6f8705c"
      },
      "outputs": [
        {
          "output_type": "stream",
          "name": "stdout",
          "text": [
            "hello\n"
          ]
        }
      ],
      "source": [
        "print(\"hello\")"
      ]
    },
    {
      "cell_type": "code",
      "source": [
        "print(\"fajar\")"
      ],
      "metadata": {
        "colab": {
          "base_uri": "https://localhost:8080/"
        },
        "id": "tFfQzqzbVCGd",
        "outputId": "022abed7-e056-49a0-982c-ed754232cd24"
      },
      "execution_count": null,
      "outputs": [
        {
          "output_type": "stream",
          "name": "stdout",
          "text": [
            "fajar\n"
          ]
        }
      ]
    },
    {
      "cell_type": "code",
      "source": [
        "print(\"19\")\n"
      ],
      "metadata": {
        "colab": {
          "base_uri": "https://localhost:8080/"
        },
        "id": "4oeI1CuzVD1j",
        "outputId": "d2148a81-2229-468f-ddf7-44bc4d2f46a7"
      },
      "execution_count": null,
      "outputs": [
        {
          "output_type": "stream",
          "name": "stdout",
          "text": [
            "19\n"
          ]
        }
      ]
    },
    {
      "cell_type": "code",
      "source": [
        "print(\"ok\")"
      ],
      "metadata": {
        "colab": {
          "base_uri": "https://localhost:8080/"
        },
        "id": "hfWu5QSUVMk7",
        "outputId": "2b847ae8-9b88-4101-ce0f-085c09b8a008"
      },
      "execution_count": null,
      "outputs": [
        {
          "output_type": "stream",
          "name": "stdout",
          "text": [
            "ok\n"
          ]
        }
      ]
    },
    {
      "cell_type": "code",
      "source": [
        "print(\"malang\")\n",
        "print(\"55674\")"
      ],
      "metadata": {
        "colab": {
          "base_uri": "https://localhost:8080/"
        },
        "id": "6NsITIC0WzgA",
        "outputId": "ebfe4e7c-305a-494c-9342-6a243f227fc2"
      },
      "execution_count": null,
      "outputs": [
        {
          "output_type": "stream",
          "name": "stdout",
          "text": [
            "malang\n",
            "55674\n"
          ]
        }
      ]
    },
    {
      "cell_type": "code",
      "source": [
        "nama=\"Nama Mu\"\n",
        "jenis_kelamin='L/P'\n",
        "usia=30;\n",
        "tinggi=175.5\n",
        "sudah_menikah=False\n",
        "\n",
        "print(\"Tipe data dari nama :\", type(nama))\n",
        "print(\"Tipe data dari usia:\", type(usia))\n",
        "print(\"Tipe data dari tinggi :\", type(tinggi))\n",
        "print(\"Tipe data dari sudah_menikah :\", type(sudah_menikah))\n",
        "\n",
        "usia_dua_tahun_lagi=usia+2\n",
        "tinggi_cm=tinggi*100\n",
        "pesan=\"Hallo, saya\"+nama\n",
        "\n",
        "print(\"Usia dua tahun lagi :\", usia_dua_tahun_lagi)\n",
        "print(\"Tinggi dalama cm :\", tinggi_cm)\n",
        "print(pesan)"
      ],
      "metadata": {
        "colab": {
          "base_uri": "https://localhost:8080/"
        },
        "id": "zXIrFNF0XtFG",
        "outputId": "d17ac3c3-28c4-4434-e027-73adef799486"
      },
      "execution_count": null,
      "outputs": [
        {
          "output_type": "stream",
          "name": "stdout",
          "text": [
            "Tipe data dari nama : <class 'str'>\n",
            "Tipe data dari usia: <class 'int'>\n",
            "Tipe data dari tinggi : <class 'float'>\n",
            "Tipe data dari sudah_menikah : <class 'bool'>\n",
            "Usia dua tahun lagi : 32\n",
            "Tinggi dalama cm : 17550.0\n",
            "Hallo, sayaNama Mu\n"
          ]
        }
      ]
    },
    {
      "cell_type": "code",
      "source": [
        "usia=31\n",
        "tinggi=151.5\n",
        "mahasiswa=False\n",
        "\n",
        "angka1=10\n",
        "angka2=5\n",
        "\n",
        "jumlah=angka1+angka2\n",
        "kurang=angka1-angka2\n",
        "kali=angka1*angka2\n",
        "bagi=angka1/angka2\n",
        "\n",
        "teks1=\"Halo\"\n",
        "teks2=\"Dunia\"\n",
        "sambutan=teks1+teks2\n",
        "\n",
        "print(\"Usia = \", usia)\n",
        "print(\"Tinggi = \", tinggi)\n",
        "print(\"Jumlah = \", jumlah)\n",
        "print(\"Kurang = \", kurang)\n",
        "print(\"Kali = \", kali)\n",
        "print(\"Bagi = \", bagi)\n",
        "print(\"Sambutan = \", sambutan)\n",
        "\n"
      ],
      "metadata": {
        "colab": {
          "base_uri": "https://localhost:8080/"
        },
        "id": "QsumSf7fY4fH",
        "outputId": "320681d2-9551-4508-ea83-a90e21338bf3"
      },
      "execution_count": null,
      "outputs": [
        {
          "output_type": "stream",
          "name": "stdout",
          "text": [
            "Usia =  31\n",
            "Tinggi =  151.5\n",
            "Jumlah =  15\n",
            "Kurang =  5\n",
            "Kali =  50\n",
            "Bagi =  2.0\n",
            "Sambutan =  HaloDunia\n"
          ]
        }
      ]
    },
    {
      "cell_type": "code",
      "source": [
        "list_kosong=[]\n",
        "list_buah=['Pisang', 'Nana', 'Melon','Durian']\n",
        "list_nilai=[80, 70, 90, 60]\n",
        "list_jawaban=[150, 33.33, 'Presiden Sukarno', False]\n",
        "\n",
        "print('List kosong', list_kosong)\n",
        "print('List buah', list_buah)\n",
        "print('List nilai', list_nilai)\n",
        "print('list_jawaban', list_jawaban)\n",
        "\n",
        "print(list_buah[0])\n",
        "print(list_buah[1])\n",
        "print(list_buah[2])\n",
        "print(list_buah[3])"
      ],
      "metadata": {
        "colab": {
          "base_uri": "https://localhost:8080/"
        },
        "id": "-t5R-kLMafbD",
        "outputId": "63ff8ecb-dcc9-4be7-b865-78ee897912d2"
      },
      "execution_count": null,
      "outputs": [
        {
          "output_type": "stream",
          "name": "stdout",
          "text": [
            "List kosong []\n",
            "List buah ['Pisang', 'Nana', 'Melon', 'Durian']\n",
            "List nilai [80, 70, 90, 60]\n",
            "list_jawaban [150, 33.33, 'Presiden Sukarno', False]\n",
            "Pisang\n",
            "Nana\n",
            "Melon\n",
            "Durian\n"
          ]
        }
      ]
    }
  ]
}